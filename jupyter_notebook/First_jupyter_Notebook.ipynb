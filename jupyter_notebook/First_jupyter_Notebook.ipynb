{
 "cells": [
  {
   "cell_type": "markdown",
   "id": "dcc69941",
   "metadata": {},
   "source": [
    "#Python_ka_Chilla\n",
    "1. First Program"
   ]
  },
  {
   "cell_type": "code",
   "execution_count": 1,
   "id": "2cb8d3de",
   "metadata": {},
   "outputs": [
    {
     "name": "stdout",
     "output_type": "stream",
     "text": [
      "I am writing my first Program\n",
      "I am learning from Youtube\n",
      "132423\n"
     ]
    }
   ],
   "source": [
    "print(\"I am writing my first Program\")\n",
    "print(\"I am learning from Youtube\")\n",
    "print(65657+66766)"
   ]
  },
  {
   "cell_type": "markdown",
   "id": "2a720e92",
   "metadata": {},
   "source": [
    "**2.Operators"
   ]
  },
  {
   "cell_type": "code",
   "execution_count": 2,
   "id": "1e11d20d",
   "metadata": {},
   "outputs": [
    {
     "name": "stdout",
     "output_type": "stream",
     "text": [
      "8\n",
      "-7\n",
      "24\n",
      "2.0\n",
      "2\n",
      "2\n",
      "81\n",
      "6.25\n"
     ]
    }
   ],
   "source": [
    "print(3+5)\n",
    "print(2-9)\n",
    "print(6*4)\n",
    "print(4/2)\n",
    "print(4//2)\n",
    "print(8%3)\n",
    "print(3**4)\n",
    "\n",
    "print((3*2)+5/2**2-1)\n"
   ]
  },
  {
   "cell_type": "markdown",
   "id": "323f0015",
   "metadata": {},
   "source": [
    "**3.Strings"
   ]
  },
  {
   "cell_type": "code",
   "execution_count": 3,
   "id": "c98325c3",
   "metadata": {},
   "outputs": [
    {
     "name": "stdout",
     "output_type": "stream",
     "text": [
      "Muhammad Anwar Ul Hassan\n",
      "Muhammad Anwar Ul Hassan\n",
      " Muhammad Anwar Ul Hassan\n"
     ]
    }
   ],
   "source": [
    "print('Muhammad Anwar Ul Hassan')\n",
    "print(\"Muhammad Anwar Ul Hassan\")\n",
    "print(''' Muhammad Anwar Ul Hassan''')\n"
   ]
  },
  {
   "cell_type": "markdown",
   "id": "eedc896a",
   "metadata": {},
   "source": [
    "**4.Comments"
   ]
  },
  {
   "cell_type": "code",
   "execution_count": 4,
   "id": "0d1ebedb",
   "metadata": {},
   "outputs": [
    {
     "name": "stdout",
     "output_type": "stream",
     "text": [
      "I am learning Python\n",
      "7\n"
     ]
    }
   ],
   "source": [
    "print(\"I am learning Python\")   \n",
    "print(2+5)      "
   ]
  },
  {
   "cell_type": "markdown",
   "id": "0041b6eb",
   "metadata": {},
   "source": [
    "**5.Variables"
   ]
  },
  {
   "cell_type": "code",
   "execution_count": 5,
   "id": "b2b1ee38",
   "metadata": {},
   "outputs": [
    {
     "name": "stdout",
     "output_type": "stream",
     "text": [
      "<class 'str'>\n",
      "<class 'int'>\n",
      "Mangoes\n"
     ]
    }
   ],
   "source": [
    "x=\"Anwar\"\n",
    "y=2\n",
    "print(type(x))\n",
    "print(type(y))\n",
    "\n",
    "fruit_basket=\"Mangoes\" \n",
    "print(fruit_basket)"
   ]
  },
  {
   "cell_type": "markdown",
   "id": "20405820",
   "metadata": {},
   "source": [
    "**6.Input_Variables"
   ]
  },
  {
   "cell_type": "code",
   "execution_count": 6,
   "id": "cf92a9ff",
   "metadata": {},
   "outputs": [
    {
     "name": "stdout",
     "output_type": "stream",
     "text": [
      "What is your name? Anwar\n",
      "How Old are you? 18\n",
      "Hello Anwar Oh! you are Still Young\n"
     ]
    }
   ],
   "source": [
    "name=input(\"What is your name? \")\n",
    "age=input(\"How Old are you? \")\n",
    "Greetings=\"Hello\"\n",
    "print(Greetings, name, \"Oh! you are Still Young\")\n"
   ]
  },
  {
   "cell_type": "markdown",
   "id": "1cf00f28",
   "metadata": {},
   "source": [
    "**7.Conditional_Logics"
   ]
  },
  {
   "cell_type": "code",
   "execution_count": 7,
   "id": "be39f19c",
   "metadata": {},
   "outputs": [
    {
     "name": "stdout",
     "output_type": "stream",
     "text": [
      "What is your age? 22\n",
      "False\n"
     ]
    }
   ],
   "source": [
    "anwar_age=input(\"What is your age? \" )\n",
    "school_requirement=6\n",
    "anwar_age=int(anwar_age)\n",
    "\n",
    "print(anwar_age==school_requirement)"
   ]
  },
  {
   "cell_type": "markdown",
   "id": "946e103d",
   "metadata": {},
   "source": [
    "**8.type_Conversion"
   ]
  },
  {
   "cell_type": "code",
   "execution_count": 8,
   "id": "a3fe7eec",
   "metadata": {},
   "outputs": [
    {
     "name": "stdout",
     "output_type": "stream",
     "text": [
      "<class 'int'> <class 'float'> <class 'str'>\n",
      "<class 'float'>\n",
      "What is your age? 22\n",
      "22 ,  <class 'int'>\n",
      "What is your age? 22\n",
      "22 ,  <class 'float'>\n"
     ]
    }
   ],
   "source": [
    "x=55                \n",
    "y=4.5               \n",
    "z=\"Hello World\"     \n",
    "\n",
    "print(type(x),type(y),type(z))\n",
    "\n",
    "\n",
    "x=x*y\n",
    "print(type(x))\n",
    "\n",
    "\n",
    "age=input(\"What is your age? \")\n",
    "print(age, \", \",type(int(age)))\n",
    "\n",
    "age=input(\"What is your age? \")\n",
    "print(age, \", \",type(float(age)))"
   ]
  },
  {
   "cell_type": "markdown",
   "id": "491de005",
   "metadata": {},
   "source": [
    "**9.if_elif_else"
   ]
  },
  {
   "cell_type": "code",
   "execution_count": 9,
   "id": "d250205f",
   "metadata": {},
   "outputs": [
    {
     "name": "stdout",
     "output_type": "stream",
     "text": [
      "How Old are You? 23\n",
      "We regret to inform you that you are not eligible to apply. \n"
     ]
    }
   ],
   "source": [
    "age_of_candidate=input(\"How Old are You? \")\n",
    "age_of_candidate=int(age_of_candidate)                 \n",
    "\n",
    "if age_of_candidate == 25 :\n",
    "    print (\"Congratulations! You are Qualified to Apply for that Job.\")\n",
    "elif age_of_candidate > 30 :\n",
    "    print (\"Your age limit is more than required. \")\n",
    "elif age_of_candidate >= 25:\n",
    "    print(\"Congratulations! You are Qualified to Apply for that Job.\")\n",
    "else :\n",
    "    print(\"We regret to inform you that you are not eligible to apply. \")\n"
   ]
  },
  {
   "cell_type": "markdown",
   "id": "c3e75584",
   "metadata": {},
   "source": [
    "**10.functions"
   ]
  },
  {
   "cell_type": "code",
   "execution_count": 10,
   "id": "b08be255",
   "metadata": {},
   "outputs": [
    {
     "name": "stdout",
     "output_type": "stream",
     "text": [
      "Coursera is Best learning platform\n",
      "Coursera is Best learning platform\n",
      "Coursera is Best learning platform\n",
      "Coursera is the Best learning platform\n",
      "Coursera is the Best learning platform\n",
      "Coursera is the Best learning platform\n",
      "Coursera is the Best learning platform\n",
      "Coursera is the Best learning platform\n",
      "Coursera is the Best learning platform\n",
      "We regret to inform you that you are not eligible to apply. \n",
      "35\n"
     ]
    }
   ],
   "source": [
    "def learning_platform():\n",
    "    print (\"Coursera is Best learning platform\")\n",
    "    print (\"Coursera is Best learning platform\")\n",
    "    print (\"Coursera is Best learning platform\")\n",
    "\n",
    "learning_platform()\n",
    "\n",
    "def learning_platform(text):\n",
    "    text= \"Coursera is the Best learning platform\"\n",
    "    print(text)\n",
    "    print(text)\n",
    "    print(text)\n",
    "\n",
    "learning_platform(\"text\")\n",
    "\n",
    "def learning_platform(text):\n",
    "\n",
    "    print(text)\n",
    "    print(text)\n",
    "    print(text)\n",
    "\n",
    "learning_platform(\"Coursera is the Best learning platform\")\n",
    "\n",
    "def job_eligibility(age_of_candidate):\n",
    "    if age_of_candidate == 25 :\n",
    "        print (\"Congratulations! You are Qualified to Apply for that Job.\")\n",
    "    elif age_of_candidate > 30 :\n",
    "        print (\"Your age limit is more than required. \")\n",
    "    elif age_of_candidate >= 25:\n",
    "        print(\"Congratulations! You are Qualified to Apply for that Job.\")\n",
    "    else :\n",
    "        print(\"We regret to inform you that you are not eligible to apply. \")\n",
    "\n",
    "job_eligibility(23)\n",
    "\n",
    "\n",
    "def future_age(age):\n",
    "    new_age = age+20\n",
    "    return new_age\n",
    "\n",
    "\n",
    "predicted_age=future_age(15)\n",
    "print(predicted_age)\n"
   ]
  },
  {
   "cell_type": "markdown",
   "id": "2bde842d",
   "metadata": {},
   "source": [
    "**11.Loops"
   ]
  },
  {
   "cell_type": "code",
   "execution_count": 11,
   "id": "3e77103d",
   "metadata": {},
   "outputs": [
    {
     "name": "stdout",
     "output_type": "stream",
     "text": [
      "2\n",
      "3\n",
      "4\n",
      "5\n",
      "2\n",
      "3\n",
      "4\n",
      "5\n",
      "6\n",
      "7\n",
      "Pak\n",
      "Aus\n",
      "WIN\n"
     ]
    }
   ],
   "source": [
    "x=2\n",
    "while (x<6):\n",
    "    print(x)\n",
    "    x=x+1\n",
    "\n",
    "for x in range (2,8):\n",
    "    print(x)\n",
    "\n",
    "country_name= [\"Pak\",\"Aus\",\"WIN\",\"Ind\",\"Afg\",\"SL\"]\n",
    "for x in country_name:\n",
    "    \n",
    "    if (x==\"Ind\"):break \n",
    "    print (x)\n",
    "  "
   ]
  },
  {
   "cell_type": "markdown",
   "id": "dc7c873d",
   "metadata": {},
   "source": [
    "**12.import_libraries"
   ]
  },
  {
   "cell_type": "code",
   "execution_count": 12,
   "id": "d5615c47",
   "metadata": {},
   "outputs": [
    {
     "name": "stdout",
     "output_type": "stream",
     "text": [
      "3.141592653589793\n",
      "224\n"
     ]
    }
   ],
   "source": [
    "import math\n",
    "print (math.pi)\n",
    "\n",
    "import statistics\n",
    "x=[123,767,78,98,54]\n",
    "print(statistics.mean(x))"
   ]
  }
 ],
 "metadata": {
  "kernelspec": {
   "display_name": "Python 3 (ipykernel)",
   "language": "python",
   "name": "python3"
  },
  "language_info": {
   "codemirror_mode": {
    "name": "ipython",
    "version": 3
   },
   "file_extension": ".py",
   "mimetype": "text/x-python",
   "name": "python",
   "nbconvert_exporter": "python",
   "pygments_lexer": "ipython3",
   "version": "3.9.7"
  }
 },
 "nbformat": 4,
 "nbformat_minor": 5
}
