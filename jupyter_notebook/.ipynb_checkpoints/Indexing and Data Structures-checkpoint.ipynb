{
 "cells": [
  {
   "cell_type": "markdown",
   "id": "cf8389d6",
   "metadata": {},
   "source": [
    "# -Indexing"
   ]
  },
  {
   "cell_type": "code",
   "execution_count": 1,
   "id": "d9bac53d",
   "metadata": {},
   "outputs": [
    {
     "data": {
      "text/plain": [
       "'I am learning Python'"
      ]
     },
     "execution_count": 1,
     "metadata": {},
     "output_type": "execute_result"
    }
   ],
   "source": [
    "a='I am learning Python'\n",
    "a"
   ]
  },
  {
   "cell_type": "code",
   "execution_count": 2,
   "id": "df68542b",
   "metadata": {},
   "outputs": [
    {
     "data": {
      "text/plain": [
       "'I'"
      ]
     },
     "execution_count": 2,
     "metadata": {},
     "output_type": "execute_result"
    }
   ],
   "source": [
    "a[0]"
   ]
  },
  {
   "cell_type": "code",
   "execution_count": 3,
   "id": "c4d33e04",
   "metadata": {},
   "outputs": [
    {
     "data": {
      "text/plain": [
       "'e'"
      ]
     },
     "execution_count": 3,
     "metadata": {},
     "output_type": "execute_result"
    }
   ],
   "source": [
    "a[6]"
   ]
  },
  {
   "cell_type": "code",
   "execution_count": 4,
   "id": "9db893a9",
   "metadata": {},
   "outputs": [
    {
     "data": {
      "text/plain": [
       "20"
      ]
     },
     "execution_count": 4,
     "metadata": {},
     "output_type": "execute_result"
    }
   ],
   "source": [
    "len(a)"
   ]
  },
  {
   "cell_type": "code",
   "execution_count": 5,
   "id": "65a3c828",
   "metadata": {},
   "outputs": [
    {
     "data": {
      "text/plain": [
       "'I am le'"
      ]
     },
     "execution_count": 5,
     "metadata": {},
     "output_type": "execute_result"
    }
   ],
   "source": [
    "a[0:7]"
   ]
  },
  {
   "cell_type": "code",
   "execution_count": 6,
   "id": "c5c6c602",
   "metadata": {},
   "outputs": [
    {
     "data": {
      "text/plain": [
       "'I am learning Python'"
      ]
     },
     "execution_count": 6,
     "metadata": {},
     "output_type": "execute_result"
    }
   ],
   "source": [
    "a[0:20]"
   ]
  },
  {
   "cell_type": "markdown",
   "id": "2cd9a504",
   "metadata": {},
   "source": [
    "**String Method**"
   ]
  },
  {
   "cell_type": "code",
   "execution_count": 7,
   "id": "d47368b0",
   "metadata": {},
   "outputs": [
    {
     "data": {
      "text/plain": [
       "'chicken karahi'"
      ]
     },
     "execution_count": 7,
     "metadata": {},
     "output_type": "execute_result"
    }
   ],
   "source": [
    "lunch='chicken karahi'\n",
    "lunch"
   ]
  },
  {
   "cell_type": "code",
   "execution_count": 8,
   "id": "a6f01c0c",
   "metadata": {},
   "outputs": [
    {
     "data": {
      "text/plain": [
       "'Chicken karahi'"
      ]
     },
     "execution_count": 8,
     "metadata": {},
     "output_type": "execute_result"
    }
   ],
   "source": [
    "#Capitalize every element\n",
    "lunch.capitalize()"
   ]
  },
  {
   "cell_type": "code",
   "execution_count": 9,
   "id": "779a3348",
   "metadata": {},
   "outputs": [
    {
     "data": {
      "text/plain": [
       "'CHICKEN KARAHI'"
      ]
     },
     "execution_count": 9,
     "metadata": {},
     "output_type": "execute_result"
    }
   ],
   "source": [
    "#upper case letters\n",
    "lunch.upper()"
   ]
  },
  {
   "cell_type": "code",
   "execution_count": 10,
   "id": "77f2757f",
   "metadata": {},
   "outputs": [
    {
     "data": {
      "text/plain": [
       "'chicken karahi'"
      ]
     },
     "execution_count": 10,
     "metadata": {},
     "output_type": "execute_result"
    }
   ],
   "source": [
    "#lower case letters\n",
    "lunch.lower()"
   ]
  },
  {
   "cell_type": "code",
   "execution_count": 11,
   "id": "f6466a4d",
   "metadata": {},
   "outputs": [
    {
     "data": {
      "text/plain": [
       "'khicken karahi'"
      ]
     },
     "execution_count": 11,
     "metadata": {},
     "output_type": "execute_result"
    }
   ],
   "source": [
    "#replace \n",
    "lunch.replace(\"ch\",\"kh\")"
   ]
  },
  {
   "cell_type": "code",
   "execution_count": 12,
   "id": "825a977f",
   "metadata": {},
   "outputs": [
    {
     "data": {
      "text/plain": [
       "'Pakistan Cricket team is progressively becoming better'"
      ]
     },
     "execution_count": 12,
     "metadata": {},
     "output_type": "execute_result"
    }
   ],
   "source": [
    "#counting a specific alphabet in a string\n",
    "cricket=\"Pakistan Cricket team is progressively becoming better\"\n",
    "cricket\n"
   ]
  },
  {
   "cell_type": "code",
   "execution_count": 13,
   "id": "6ac2abf4",
   "metadata": {
    "scrolled": true
   },
   "outputs": [
    {
     "data": {
      "text/plain": [
       "3"
      ]
     },
     "execution_count": 13,
     "metadata": {},
     "output_type": "execute_result"
    }
   ],
   "source": [
    "cricket.count(\"a\")"
   ]
  },
  {
   "cell_type": "markdown",
   "id": "4687c94e",
   "metadata": {},
   "source": [
    "# -Finding an index number"
   ]
  },
  {
   "cell_type": "code",
   "execution_count": 14,
   "id": "95eec025",
   "metadata": {},
   "outputs": [
    {
     "data": {
      "text/plain": [
       "2"
      ]
     },
     "execution_count": 14,
     "metadata": {},
     "output_type": "execute_result"
    }
   ],
   "source": [
    "cricket.find(\"k\")"
   ]
  },
  {
   "cell_type": "code",
   "execution_count": 15,
   "id": "0f7c6d06",
   "metadata": {},
   "outputs": [],
   "source": [
    "# Spliting a string"
   ]
  },
  {
   "cell_type": "code",
   "execution_count": 16,
   "id": "35fa5298",
   "metadata": {
    "scrolled": true
   },
   "outputs": [
    {
     "data": {
      "text/plain": [
       "['Pak', 'tan Cricket team ', ' progressively becoming better']"
      ]
     },
     "execution_count": 16,
     "metadata": {},
     "output_type": "execute_result"
    }
   ],
   "source": [
    "cricket.split(\"is\")"
   ]
  },
  {
   "cell_type": "markdown",
   "id": "229c8fc8",
   "metadata": {},
   "source": [
    "## Data Structures in Python\n",
    "1. Tuple\n",
    "2. List\n",
    "3. Dictionaries\n",
    "4. Set"
   ]
  },
  {
   "cell_type": "markdown",
   "id": "181b172c",
   "metadata": {},
   "source": [
    "**1.Tuple**"
   ]
  },
  {
   "cell_type": "code",
   "execution_count": 17,
   "id": "703d16ba",
   "metadata": {},
   "outputs": [
    {
     "data": {
      "text/plain": [
       "(4, 'Anwar', False, 8.5)"
      ]
     },
     "execution_count": 17,
     "metadata": {},
     "output_type": "execute_result"
    }
   ],
   "source": [
    "tup1=(4,\"Anwar\",False, 8.5)\n",
    "tup1"
   ]
  },
  {
   "cell_type": "code",
   "execution_count": 18,
   "id": "c44b2a76",
   "metadata": {},
   "outputs": [
    {
     "data": {
      "text/plain": [
       "tuple"
      ]
     },
     "execution_count": 18,
     "metadata": {},
     "output_type": "execute_result"
    }
   ],
   "source": [
    "type(tup1)"
   ]
  },
  {
   "cell_type": "code",
   "execution_count": 19,
   "id": "4b882dfe",
   "metadata": {},
   "outputs": [
    {
     "data": {
      "text/plain": [
       "4"
      ]
     },
     "execution_count": 19,
     "metadata": {},
     "output_type": "execute_result"
    }
   ],
   "source": [
    "#one exclusive element\n",
    "len(tup1)"
   ]
  },
  {
   "cell_type": "code",
   "execution_count": 20,
   "id": "7a855082",
   "metadata": {},
   "outputs": [
    {
     "data": {
      "text/plain": [
       "8.5"
      ]
     },
     "execution_count": 20,
     "metadata": {},
     "output_type": "execute_result"
    }
   ],
   "source": [
    "tup1[3]"
   ]
  },
  {
   "cell_type": "code",
   "execution_count": 21,
   "id": "b4ead5f7",
   "metadata": {},
   "outputs": [
    {
     "data": {
      "text/plain": [
       "(6, 'Pakistan', True)"
      ]
     },
     "execution_count": 21,
     "metadata": {},
     "output_type": "execute_result"
    }
   ],
   "source": [
    "tup2=(6,\"Pakistan\",True)\n",
    "tup2"
   ]
  },
  {
   "cell_type": "code",
   "execution_count": 22,
   "id": "72bbf738",
   "metadata": {
    "scrolled": true
   },
   "outputs": [
    {
     "data": {
      "text/plain": [
       "(4, 'Anwar', False, 8.5, 6, 'Pakistan', True)"
      ]
     },
     "execution_count": 22,
     "metadata": {},
     "output_type": "execute_result"
    }
   ],
   "source": [
    "#Concatinate\n",
    "tup1 +tup2"
   ]
  },
  {
   "cell_type": "code",
   "execution_count": 23,
   "id": "77f5720f",
   "metadata": {},
   "outputs": [
    {
     "data": {
      "text/plain": [
       "(4, 'Anwar', False, 8.5, 6, 'Pakistan', True, 6, 'Pakistan', True)"
      ]
     },
     "execution_count": 23,
     "metadata": {},
     "output_type": "execute_result"
    }
   ],
   "source": [
    "#Concatinate+Repeat\n",
    "tup1 +tup2*2"
   ]
  },
  {
   "cell_type": "markdown",
   "id": "f3330d11",
   "metadata": {},
   "source": [
    "---"
   ]
  },
  {
   "cell_type": "code",
   "execution_count": 24,
   "id": "e6aebcfd",
   "metadata": {},
   "outputs": [
    {
     "data": {
      "text/plain": [
       "(23, 566, 66, 87, 42, 65, 23)"
      ]
     },
     "execution_count": 24,
     "metadata": {},
     "output_type": "execute_result"
    }
   ],
   "source": [
    "tup3=(23,566,66,87,42,65,23)\n",
    "tup3"
   ]
  },
  {
   "cell_type": "code",
   "execution_count": 25,
   "id": "cd71ff4b",
   "metadata": {},
   "outputs": [
    {
     "data": {
      "text/plain": [
       "566"
      ]
     },
     "execution_count": 25,
     "metadata": {},
     "output_type": "execute_result"
    }
   ],
   "source": [
    "max(tup3)"
   ]
  },
  {
   "cell_type": "code",
   "execution_count": 26,
   "id": "a858034d",
   "metadata": {},
   "outputs": [
    {
     "data": {
      "text/plain": [
       "23"
      ]
     },
     "execution_count": 26,
     "metadata": {},
     "output_type": "execute_result"
    }
   ],
   "source": [
    "min(tup3)"
   ]
  },
  {
   "cell_type": "markdown",
   "id": "79254cd9",
   "metadata": {},
   "source": [
    "**2.List**"
   ]
  },
  {
   "cell_type": "code",
   "execution_count": 27,
   "id": "d9d51afb",
   "metadata": {},
   "outputs": [
    {
     "data": {
      "text/plain": [
       "[3, 'Haider', True, 66, 24.4]"
      ]
     },
     "execution_count": 27,
     "metadata": {},
     "output_type": "execute_result"
    }
   ],
   "source": [
    "list1=[3,\"Haider\",True,66,24.4]\n",
    "list1"
   ]
  },
  {
   "cell_type": "code",
   "execution_count": 28,
   "id": "1e400873",
   "metadata": {},
   "outputs": [
    {
     "data": {
      "text/plain": [
       "True"
      ]
     },
     "execution_count": 28,
     "metadata": {},
     "output_type": "execute_result"
    }
   ],
   "source": [
    "list1[2]"
   ]
  },
  {
   "cell_type": "code",
   "execution_count": 29,
   "id": "33416098",
   "metadata": {},
   "outputs": [
    {
     "data": {
      "text/plain": [
       "[3, 'Haider', True, 66, 24.4, 'ok']"
      ]
     },
     "execution_count": 29,
     "metadata": {},
     "output_type": "execute_result"
    }
   ],
   "source": [
    "#To add something in list\n",
    "list1.append(\"ok\")\n",
    "list1"
   ]
  },
  {
   "cell_type": "code",
   "execution_count": 30,
   "id": "819acf08",
   "metadata": {},
   "outputs": [
    {
     "data": {
      "text/plain": [
       "[3, 'Haider', True, 66, 24.4, 'ok']"
      ]
     },
     "execution_count": 30,
     "metadata": {},
     "output_type": "execute_result"
    }
   ],
   "source": [
    "list1"
   ]
  },
  {
   "cell_type": "code",
   "execution_count": 31,
   "id": "5246b0cb",
   "metadata": {},
   "outputs": [
    {
     "data": {
      "text/plain": [
       "[]"
      ]
     },
     "execution_count": 31,
     "metadata": {},
     "output_type": "execute_result"
    }
   ],
   "source": [
    "#To clear the list\n",
    "list1.clear()\n",
    "list1"
   ]
  },
  {
   "cell_type": "code",
   "execution_count": 32,
   "id": "7fbf58ee",
   "metadata": {},
   "outputs": [
    {
     "data": {
      "text/plain": [
       "[3, 'Haider', True, 66, 24.4, 'I am not animal']"
      ]
     },
     "execution_count": 32,
     "metadata": {},
     "output_type": "execute_result"
    }
   ],
   "source": [
    "list2=[3,'Haider',True,66,24.4,'I am not animal']\n",
    "list2"
   ]
  },
  {
   "cell_type": "code",
   "execution_count": 33,
   "id": "5e1913d7",
   "metadata": {},
   "outputs": [
    {
     "data": {
      "text/plain": [
       "[3, 'Haider']"
      ]
     },
     "execution_count": 33,
     "metadata": {},
     "output_type": "execute_result"
    }
   ],
   "source": [
    "list3=[3,'Haider']\n",
    "list3"
   ]
  },
  {
   "cell_type": "code",
   "execution_count": 34,
   "id": "13d1eef2",
   "metadata": {},
   "outputs": [
    {
     "data": {
      "text/plain": [
       "['Haider', 3]"
      ]
     },
     "execution_count": 34,
     "metadata": {},
     "output_type": "execute_result"
    }
   ],
   "source": [
    "list3.reverse()\n",
    "list3"
   ]
  },
  {
   "cell_type": "code",
   "execution_count": 35,
   "id": "0116c107",
   "metadata": {},
   "outputs": [
    {
     "data": {
      "text/plain": [
       "['A', 'B', 'C', 'D']"
      ]
     },
     "execution_count": 35,
     "metadata": {},
     "output_type": "execute_result"
    }
   ],
   "source": [
    "list4=[\"A\",\"B\",\"C\",\"D\"]\n",
    "list4"
   ]
  },
  {
   "cell_type": "code",
   "execution_count": 36,
   "id": "8dbe0395",
   "metadata": {},
   "outputs": [
    {
     "data": {
      "text/plain": [
       "[23, 67, 76, 53, 33, 76, 98]"
      ]
     },
     "execution_count": 36,
     "metadata": {},
     "output_type": "execute_result"
    }
   ],
   "source": [
    "list5=[23,67,76,53,33,76,98]\n",
    "list5"
   ]
  },
  {
   "cell_type": "code",
   "execution_count": 37,
   "id": "ddfc98bf",
   "metadata": {},
   "outputs": [
    {
     "data": {
      "text/plain": [
       "[23, 33, 53, 67, 76, 76, 98]"
      ]
     },
     "execution_count": 37,
     "metadata": {},
     "output_type": "execute_result"
    }
   ],
   "source": [
    "#To make them in ascending order\n",
    "list5.sort()\n",
    "list5"
   ]
  },
  {
   "cell_type": "code",
   "execution_count": 38,
   "id": "c60f9c60",
   "metadata": {},
   "outputs": [
    {
     "data": {
      "text/plain": [
       "['A', 'B', 'C', 'D', 23, 33, 53, 67, 76, 76, 98, 23, 33, 53, 67, 76, 76, 98]"
      ]
     },
     "execution_count": 38,
     "metadata": {},
     "output_type": "execute_result"
    }
   ],
   "source": [
    "#Concanitate and repeat\n",
    "list4+list5*2"
   ]
  },
  {
   "cell_type": "markdown",
   "id": "1603c153",
   "metadata": {},
   "source": [
    "**3.Dictionaries**"
   ]
  },
  {
   "cell_type": "code",
   "execution_count": 39,
   "id": "6e89aa16",
   "metadata": {},
   "outputs": [
    {
     "data": {
      "text/plain": [
       "{'raita': 20, 'pakora': 100, 'Samosa': 30, 'Salad': 20, 'Chicken Roll': 30}"
      ]
     },
     "execution_count": 39,
     "metadata": {},
     "output_type": "execute_result"
    }
   ],
   "source": [
    "food={'raita':20,'pakora':100,'Samosa':30,'Salad':20,'Chicken Roll':30}\n",
    "food"
   ]
  },
  {
   "cell_type": "code",
   "execution_count": 40,
   "id": "1b0254e2",
   "metadata": {},
   "outputs": [
    {
     "data": {
      "text/plain": [
       "dict"
      ]
     },
     "execution_count": 40,
     "metadata": {},
     "output_type": "execute_result"
    }
   ],
   "source": [
    "type(food)\n"
   ]
  },
  {
   "cell_type": "code",
   "execution_count": 41,
   "id": "1bca04ca",
   "metadata": {},
   "outputs": [
    {
     "data": {
      "text/plain": [
       "dict_keys(['raita', 'pakora', 'Samosa', 'Salad', 'Chicken Roll'])"
      ]
     },
     "execution_count": 41,
     "metadata": {},
     "output_type": "execute_result"
    }
   ],
   "source": [
    "food.keys()"
   ]
  },
  {
   "cell_type": "code",
   "execution_count": 42,
   "id": "1a96021f",
   "metadata": {},
   "outputs": [
    {
     "data": {
      "text/plain": [
       "dict_values([20, 100, 30, 20, 30])"
      ]
     },
     "execution_count": 42,
     "metadata": {},
     "output_type": "execute_result"
    }
   ],
   "source": [
    "food.values()"
   ]
  },
  {
   "cell_type": "code",
   "execution_count": 43,
   "id": "8b675568",
   "metadata": {},
   "outputs": [
    {
     "data": {
      "text/plain": [
       "{'raita': 20,\n",
       " 'pakora': 100,\n",
       " 'Samosa': 30,\n",
       " 'Salad': 20,\n",
       " 'Chicken Roll': 30,\n",
       " 'Tikki': 15}"
      ]
     },
     "execution_count": 43,
     "metadata": {},
     "output_type": "execute_result"
    }
   ],
   "source": [
    "food['Tikki']=15\n",
    "food"
   ]
  },
  {
   "cell_type": "code",
   "execution_count": 44,
   "id": "fad37735",
   "metadata": {},
   "outputs": [
    {
     "data": {
      "text/plain": [
       "{'Chocolates': 100, 'Sweets': 200, 'Dates': 50}"
      ]
     },
     "execution_count": 44,
     "metadata": {},
     "output_type": "execute_result"
    }
   ],
   "source": [
    "food2={'Chocolates':100, 'Sweets':200, 'Dates':50}\n",
    "food2"
   ]
  },
  {
   "cell_type": "code",
   "execution_count": 45,
   "id": "262968e8",
   "metadata": {},
   "outputs": [
    {
     "data": {
      "text/plain": [
       "{'raita': 20,\n",
       " 'pakora': 100,\n",
       " 'Samosa': 30,\n",
       " 'Salad': 20,\n",
       " 'Chicken Roll': 30,\n",
       " 'Tikki': 15,\n",
       " 'Chocolates': 100,\n",
       " 'Sweets': 200,\n",
       " 'Dates': 50}"
      ]
     },
     "execution_count": 45,
     "metadata": {},
     "output_type": "execute_result"
    }
   ],
   "source": [
    "#Concatinate\n",
    "food.update(food2)\n",
    "food\n"
   ]
  },
  {
   "cell_type": "markdown",
   "id": "a145f5e4",
   "metadata": {},
   "source": [
    "##  4.Sets"
   ]
  },
  {
   "cell_type": "code",
   "execution_count": 46,
   "id": "054554e2",
   "metadata": {},
   "outputs": [
    {
     "data": {
      "text/plain": [
       "{1, 2.2, 5.6, 'Anwar', 'Jhang', 'Pakistan'}"
      ]
     },
     "execution_count": 46,
     "metadata": {},
     "output_type": "execute_result"
    }
   ],
   "source": [
    "s1={1,2.2,5.6,\"Anwar\",\"Jhang\",\"Pakistan\"}\n",
    "s1"
   ]
  },
  {
   "cell_type": "code",
   "execution_count": 47,
   "id": "84659ccb",
   "metadata": {},
   "outputs": [
    {
     "data": {
      "text/plain": [
       "set"
      ]
     },
     "execution_count": 47,
     "metadata": {},
     "output_type": "execute_result"
    }
   ],
   "source": [
    "type(s1)"
   ]
  },
  {
   "cell_type": "code",
   "execution_count": 48,
   "id": "a22587d2",
   "metadata": {},
   "outputs": [
    {
     "data": {
      "text/plain": [
       "{1, 2.2, 23, 5.6, 'Anwar', 'Jhang', 'Pakistan'}"
      ]
     },
     "execution_count": 48,
     "metadata": {},
     "output_type": "execute_result"
    }
   ],
   "source": [
    "s1.add(23)\n",
    "s1"
   ]
  },
  {
   "cell_type": "code",
   "execution_count": 49,
   "id": "787ee1a3",
   "metadata": {},
   "outputs": [
    {
     "data": {
      "text/plain": [
       "{1, 2.2, 23, 'Anwar', 'Jhang', 'Pakistan'}"
      ]
     },
     "execution_count": 49,
     "metadata": {},
     "output_type": "execute_result"
    }
   ],
   "source": [
    "s1.remove(5.6)\n",
    "s1"
   ]
  },
  {
   "cell_type": "code",
   "execution_count": 50,
   "id": "6211aee1",
   "metadata": {},
   "outputs": [
    {
     "data": {
      "text/plain": [
       "{1, 2.2, 23, 'A', 'Anwar', 'Jhang', 'Pakistan', 'a', 'n', 'r', 'w'}"
      ]
     },
     "execution_count": 50,
     "metadata": {},
     "output_type": "execute_result"
    }
   ],
   "source": [
    "s1.update(\"Anwaar\")\n",
    "s1"
   ]
  }
 ],
 "metadata": {
  "kernelspec": {
   "display_name": "Python 3 (ipykernel)",
   "language": "python",
   "name": "python3"
  },
  "language_info": {
   "codemirror_mode": {
    "name": "ipython",
    "version": 3
   },
   "file_extension": ".py",
   "mimetype": "text/x-python",
   "name": "python",
   "nbconvert_exporter": "python",
   "pygments_lexer": "ipython3",
   "version": "3.9.7"
  }
 },
 "nbformat": 4,
 "nbformat_minor": 5
}
